{
 "cells": [
  {
   "cell_type": "markdown",
   "metadata": {},
   "source": [
    "# 01 - Functions\n",
    "- kbjiyu 2018整理\n",
    "\n",
    "<hr style=\"border-width:3px\"></hr>\n",
    "\n",
    "References\n",
    "- https://www.w3schools.in/python-tutorial/functions/\n",
    "- https://code.ziqiangxuetang.com/python3/python3-function.html"
   ]
  },
  {
   "cell_type": "markdown",
   "metadata": {},
   "source": [
    "## 1-1 基本Functions函式\n",
    "- 函式就像一台果汁機, 丟進水果, 輸出果汁, 完成了特定工作。\n",
    "- 使用def關鍵字進行函式定義\n",
    "\n",
    "語法：\n",
    "<pre style=\"background-color:#FBFBFB\">\n",
    "def 函數名稱(參數1, 參數2):\n",
    "  函數工作\n",
    "  \n",
    "def func_name(param1, param2):\n",
    "  # DO SOMETHING\n",
    "  pass\n",
    "</pre>\n",
    "\n",
    "語法要點：\n",
    "<pre style=\"background-color:#FBFBFB\">\n",
    "def func_name(    ):\n",
    "  # SOMETHING ¯¯¯¯\n",
    "               ↑\n",
    "             參數數量/形式, 有許多方式進行定義喔~\n",
    "</pre>\n",
    "\n",
    "概念舉例：\n",
    "<pre style=\"background-color:#FBFBFB\">\n",
    "def say_hello():\n",
    "  print(\"hello!)\n",
    "</pre>"
   ]
  },
  {
   "cell_type": "markdown",
   "metadata": {},
   "source": [
    "### Example 1 - 不吃參數的function"
   ]
  },
  {
   "cell_type": "code",
   "execution_count": 1,
   "metadata": {},
   "outputs": [
    {
     "name": "stdout",
     "output_type": "stream",
     "text": [
      "hello\n"
     ]
    }
   ],
   "source": [
    "# 不吃參數\n",
    "def say_hello():\n",
    "    print(\"hello\")\n",
    "    \n",
    "say_hello()"
   ]
  },
  {
   "cell_type": "markdown",
   "metadata": {},
   "source": [
    "### Example 2 - 吃參數的function"
   ]
  },
  {
   "cell_type": "code",
   "execution_count": 2,
   "metadata": {},
   "outputs": [
    {
     "name": "stdout",
     "output_type": "stream",
     "text": [
      "11\n",
      "30\n"
     ]
    }
   ],
   "source": [
    "# e2-1無預設的固定數量參數\n",
    "def plus_two_nums(a, b):\n",
    "    ans = a + b\n",
    "    print(ans)\n",
    "    \n",
    "# e2-1-1  利用\"a=__\" \"b=__\" 進行明確指定\n",
    "plus_two_nums(a=5, b=6)\n",
    "\n",
    "# e2-1-2 利用參數順序進行指定\n",
    "v1 = 10\n",
    "v2 = 20\n",
    "plus_two_nums(v1, v2)\n",
    "\n",
    "\n",
    "# e2-1-3 該給吃卻沒吃...\n",
    "# plus_two_nums() # 應該要賦值給v1, v2兩個參數, 但卻沒有 >> 會報錯TypeError "
   ]
  },
  {
   "cell_type": "code",
   "execution_count": 3,
   "metadata": {},
   "outputs": [
    {
     "name": "stdout",
     "output_type": "stream",
     "text": [
      "Hellooooo~~~ kbjiyu\n",
      "WOW!!Kobe\n"
     ]
    }
   ],
   "source": [
    "# e2-2 有預設值的固定參數(注意預設參數只能放在後方喔)\n",
    "def say_welcome_msg(c_name, welcome_msg=\"Hellooooo~~~ \"):\n",
    "    print(welcome_msg + c_name)\n",
    "    \n",
    "# e2-2-1 預設參數可不賦值\n",
    "say_welcome_msg(c_name=\"kbjiyu\")\n",
    "\n",
    "# e2-2-2 預設參數可更改\n",
    "say_welcome_msg(c_name=\"Kobe\", welcome_msg=\"WOW!!\")"
   ]
  },
  {
   "cell_type": "code",
   "execution_count": 4,
   "metadata": {},
   "outputs": [
    {
     "name": "stdout",
     "output_type": "stream",
     "text": [
      "your_name:  KBJIYU\n",
      "your_age:  85\n",
      "tick_price:  100\n",
      "=========================================\n",
      "your_name:  85\n",
      "your_age:  KBJIYU\n",
      "tick_price:  100\n",
      "=========================================\n"
     ]
    }
   ],
   "source": [
    "# e-2-3 注意參數的指定式有順序性的\n",
    "# 在不使用(c_name=___)明確指定的情況設定參數時, 要確定函式的參數輸入順序 \n",
    "\n",
    "def order_ticket(c_name, c_age, ticket_price=100):\n",
    "    print(\"your_name: \", c_name)\n",
    "    print(\"your_age: \", c_age)\n",
    "    print(\"tick_price: \", ticket_price)\n",
    "    print(\"=========================================\")\n",
    "\n",
    "# e-2-3-1\n",
    "order_ticket(\"KBJIYU\", 85)\n",
    "\n",
    "# e-2-3-2\n",
    "order_ticket(85, \"KBJIYU\")"
   ]
  },
  {
   "cell_type": "markdown",
   "metadata": {},
   "source": [
    "### Example 2-plusI 可變數量的參數 function\n",
    "- 讓函數調用可變個數的參數。"
   ]
  },
  {
   "cell_type": "code",
   "execution_count": 5,
   "metadata": {},
   "outputs": [
    {
     "name": "stdout",
     "output_type": "stream",
     "text": [
      "('joe', 'jack', 'jean')\n",
      "<class 'tuple'>\n"
     ]
    }
   ],
   "source": [
    "# e-2-plusI-1, \n",
    "# 可以使用*的方式, 在不指定參數數量的情況輸入參數\n",
    "# 可以發現, c_names的type會是tuple\n",
    "\n",
    "def check_names(*c_names):\n",
    "    print(c_names)\n",
    "    print(type(c_names))\n",
    "\n",
    "check_names(\"joe\", \"jack\", \"jean\")"
   ]
  },
  {
   "cell_type": "code",
   "execution_count": 6,
   "metadata": {},
   "outputs": [
    {
     "name": "stdout",
     "output_type": "stream",
     "text": [
      "Hi, joe\n",
      "Hi, jack\n",
      "Hi, jean\n"
     ]
    }
   ],
   "source": [
    "# e-2-plusI-2\n",
    "def say_hi_to_everyone(*c_names):\n",
    "    for c_name in c_names:\n",
    "        print(\"Hi,\", c_name)\n",
    "\n",
    "say_hi_to_everyone(\"joe\", \"jack\", \"jean\")"
   ]
  },
  {
   "cell_type": "markdown",
   "metadata": {},
   "source": [
    "### Example-2-plusII 特別引入方式\n",
    "- 利用*進行tuple/list參數引入\n",
    "- 利用**進行dict參數引入\n",
    "    - 參考 https://www.digitalocean.com/community/tutorials/how-to-use-args-and-kwargs-in-python-3\n",
    "- 小知識: args 是 argment 複數形式的縮寫"
   ]
  },
  {
   "cell_type": "code",
   "execution_count": 7,
   "metadata": {},
   "outputs": [],
   "source": [
    "# e-2-plusII-3 \n",
    "def print_your_info(ur_name, ur_age, ur_gender):\n",
    "    print(\"your name  : \", ur_name)\n",
    "    print(\"your age   : \", ur_age)\n",
    "    print(\"your gender: \", ur_gender)"
   ]
  },
  {
   "cell_type": "code",
   "execution_count": 8,
   "metadata": {},
   "outputs": [
    {
     "name": "stdout",
     "output_type": "stream",
     "text": [
      "your name  :  Kbjiyu\n",
      "your age   :  27\n",
      "your gender:  male\n"
     ]
    }
   ],
   "source": [
    "# e-2-plusII-3-1 利用*進行list參數引入 (會按照順序進入)\n",
    "my_info_list = [\"Kbjiyu\", \"27\", \"male\"]\n",
    "\n",
    "print_your_info(*my_info_list)"
   ]
  },
  {
   "cell_type": "code",
   "execution_count": 9,
   "metadata": {},
   "outputs": [
    {
     "name": "stdout",
     "output_type": "stream",
     "text": [
      "your name  :  Kbjiyu\n",
      "your age   :  27\n",
      "your gender:  male\n"
     ]
    }
   ],
   "source": [
    "# e-2-plusII-3-2 利用**進行dict參數引入 (會按照dict中的key進行對照賦值)\n",
    "my_info_dict = {\"ur_name\": \"Kbjiyu\", \"ur_age\": \"27\", \"ur_gender\": \"male\"}\n",
    "\n",
    "print_your_info(**my_info_dict)"
   ]
  },
  {
   "cell_type": "markdown",
   "metadata": {},
   "source": [
    "### Example 3 - 關於function的variable scope概念!\n",
    "\n",
    "<pre style=\"background-color:#FBFBFB\">\n",
    "# 外部作用域 ##\n",
    "\n",
    "def test_func():\n",
    "  ## function內部作用域 開始 ##############################################\n",
    "  # DO SOMETHING \n",
    "  ## function內部作用域 結束 ##############################################\n",
    "\n",
    "# 外部作用域 ##\n",
    "</pre>\n",
    "\n",
    "\n",
    "- 重點1: 在函數當中宣告的變量, 僅會作用於函數內。\n",
    "- 重點2: 在函數引用的變量, 要注意是否存在於全局變量當中。(你知道你的變量在哪嗎?) \n",
    "- 注意: global variables 和 local variables的概念很重要der。"
   ]
  },
  {
   "cell_type": "code",
   "execution_count": 10,
   "metadata": {},
   "outputs": [
    {
     "name": "stdout",
     "output_type": "stream",
     "text": [
      "在函式中, a的值現為:  10\n",
      "=================================\n",
      "但在函式作用於之外a的值為  :  5\n"
     ]
    }
   ],
   "source": [
    "# e-3-1 test_func\n",
    "\n",
    "def test_func():\n",
    "    a = 10 # <-注意這只會作用在此func當中\n",
    "    print('在函式中, a的值現為: ', a)\n",
    "    print('=================================')\n",
    "\n",
    "\n",
    "# 在全局(或函式之外部)環境中, a 賦值為5\n",
    "a = 5 \n",
    "    \n",
    "# 函式內部的 a =10\n",
    "test_func() \n",
    "\n",
    "# 但是在函式執行之後, 會發現全局的 a 仍然是5; 因為在\n",
    "print('但在函式作用於之外a的值為  : ', a) "
   ]
  },
  {
   "cell_type": "markdown",
   "metadata": {},
   "source": [
    "#### e-3-2 比較下述兩種使用 flower_type_1 於function中的寫法, 你覺得哪個比較洽當\n",
    "- 第一種函式裡直接使用了 變數 flower_type_1 (但要是在環境中沒有flower_type_1, 會發生什麼事?)\n",
    "- 第二種函式在參數設定了要接收哪些變數, 好處是什麼呢?"
   ]
  },
  {
   "cell_type": "code",
   "execution_count": 11,
   "metadata": {},
   "outputs": [],
   "source": [
    "flower_type_1 = \"rose\""
   ]
  },
  {
   "cell_type": "code",
   "execution_count": 12,
   "metadata": {},
   "outputs": [
    {
     "name": "stdout",
     "output_type": "stream",
     "text": [
      "rose\n"
     ]
    }
   ],
   "source": [
    "# e3-2-1 第一種\n",
    "def check_flower():\n",
    "    print(flower_type_1)\n",
    "    \n",
    "check_flower()"
   ]
  },
  {
   "cell_type": "code",
   "execution_count": 13,
   "metadata": {},
   "outputs": [
    {
     "name": "stdout",
     "output_type": "stream",
     "text": [
      "rose\n"
     ]
    }
   ],
   "source": [
    "# e3-2-2 第二種\n",
    "def check_flower_betterway(flower_type):\n",
    "    print(flower_type)\n",
    "    \n",
    "check_flower_betterway(flower_type_1)"
   ]
  },
  {
   "cell_type": "code",
   "execution_count": 14,
   "metadata": {},
   "outputs": [],
   "source": [
    "# e-3-2-1 的潛在風險可能 -> 誤用全域變數/ 不知道用了全域變數/ 沒有將函式單純抽出為可重複執行。\n",
    "def check_flower_2():\n",
    "    print(flower_type_2)\n",
    "    \n",
    "# check_flower_2() # NameError: name 'flower_type_2' is not defined"
   ]
  },
  {
   "cell_type": "markdown",
   "metadata": {},
   "source": [
    "### Example 4 - 關於function的return\n",
    "- 函式有沒有返回值, 要看你的用途是什麼!"
   ]
  },
  {
   "cell_type": "code",
   "execution_count": 15,
   "metadata": {},
   "outputs": [
    {
     "name": "stdout",
     "output_type": "stream",
     "text": [
      "age is above 18? : True\n",
      "age is above 18? : True\n",
      "None\n",
      "<class 'NoneType'>\n"
     ]
    }
   ],
   "source": [
    "# 無返回值\n",
    "def check_age_above_18(age):\n",
    "    is_above_18 = age >= 18\n",
    "    print('age is above 18? :', is_above_18)\n",
    "\n",
    "check_age_above_18(20)\n",
    "\n",
    "# 上述的情況, 僅能夠作為一次性的使用, 並不會返回值\n",
    "a = check_age_above_18(25)\n",
    "print(a)  # None\n",
    "print(type(a)) # NoneType"
   ]
  },
  {
   "cell_type": "code",
   "execution_count": 16,
   "metadata": {},
   "outputs": [
    {
     "name": "stdout",
     "output_type": "stream",
     "text": [
      "21.777553339224845\n"
     ]
    }
   ],
   "source": [
    "# 有返回值\n",
    "def calc_bmi(height_m, weight_kg):\n",
    "    bmi = weight_kg / height_m ** 2    \n",
    "\n",
    "    return bmi\n",
    "\n",
    "my_height = 1.78\n",
    "my_weight = 69\n",
    "my_bmi = calc_bmi(my_height, my_weight)\n",
    "\n",
    "print(my_bmi)"
   ]
  },
  {
   "cell_type": "markdown",
   "metadata": {},
   "source": [
    "### Example 5 - 關於function的撰寫, 注意不要太複雜了\n",
    "- 一個好的function應該是\"目的很明確\"。\n",
    "- 一個好的function應該是\"命名上要很清楚\"。"
   ]
  },
  {
   "cell_type": "code",
   "execution_count": 17,
   "metadata": {},
   "outputs": [],
   "source": [
    "apple_c = 10\n",
    "apple_p = 20\n",
    "orange_c = 5\n",
    "orange_p = 15\n",
    "discount_p = 250 \n",
    "discount_percent = 0.95"
   ]
  },
  {
   "cell_type": "code",
   "execution_count": 18,
   "metadata": {},
   "outputs": [
    {
     "data": {
      "text/plain": [
       "261.25"
      ]
     },
     "execution_count": 18,
     "metadata": {},
     "output_type": "execute_result"
    }
   ],
   "source": [
    "# 目的不明確的情況(可能做太多事情了, 或是太複雜了, 應該進行步驟抽出單純化與重新構成function)\n",
    "\n",
    "def calc_total_price(apple_c, apple_p, orange_c, orange_p, discount_p, discount_percent):\n",
    "    # 第一件事情, 計算apple總價\n",
    "    apple_total = apple_c*apple_p\n",
    "    # 第二件事情, 計算orange總價\n",
    "    orange_total = orange_c*orange_p\n",
    "    # 第三件事情, 計算加總\n",
    "    total_price = apple_total + orange_total\n",
    "    # 第四件事情, 打折\n",
    "    if total_price >= discount_p:\n",
    "        total_price *= discount_percent\n",
    "        \n",
    "    return total_price\n",
    "\n",
    "calc_total_price(apple_c, apple_p, orange_c, orange_p, discount_p, discount_percent)"
   ]
  },
  {
   "cell_type": "code",
   "execution_count": 19,
   "metadata": {},
   "outputs": [
    {
     "data": {
      "text/plain": [
       "261.25"
      ]
     },
     "execution_count": 19,
     "metadata": {},
     "output_type": "execute_result"
    }
   ],
   "source": [
    "# 目的明確的情況(將上述calc_total_price 進行拆解與單純化)\n",
    "# 以下僅為舉例, 並非最優或唯一寫法\n",
    "\n",
    "\n",
    "def calc_fruit_origin(fruit_c, fruit_p):\n",
    "    fruit_origin = fruit_c*fruit_p\n",
    "    \n",
    "    return fruit_origin\n",
    "\n",
    "def calc_discounted_price(origin_p, discount_p, discount_percent):\n",
    "    final_price = origin_p\n",
    "    if origin_p > discount_p:\n",
    "        final_price *= discount_percent\n",
    "\n",
    "    return final_price\n",
    "    \n",
    "    \n",
    "apple_origin = calc_fruit_origin(apple_c, apple_p)\n",
    "orange_origin = calc_fruit_origin(orange_c, orange_p)\n",
    "origin_total = apple_origin + orange_origin\n",
    "discounted_total = calc_discounted_price(origin_total, discount_p, discount_percent)\n",
    "discounted_total"
   ]
  },
  {
   "cell_type": "code",
   "execution_count": 20,
   "metadata": {},
   "outputs": [],
   "source": [
    "# 命名不清楚的情況, \n",
    "def calc_nums(*nums):\n",
    "    avg = sum(nums)/len(nums)\n",
    "    return avg\n",
    "\n",
    "# 命名較為清楚的情況(看個人習慣, 以及縮寫的慣性與命名的重要, 可參考此書- 易讀程式之美學)\n",
    "def calc_avg(*nums):\n",
    "    avg = sum(nums)/len(nums)\n",
    "    return avg"
   ]
  },
  {
   "cell_type": "code",
   "execution_count": 21,
   "metadata": {},
   "outputs": [
    {
     "data": {
      "text/plain": [
       "7.0"
      ]
     },
     "execution_count": 21,
     "metadata": {},
     "output_type": "execute_result"
    }
   ],
   "source": [
    "calc_avg(5,6,7,8,9)"
   ]
  },
  {
   "cell_type": "markdown",
   "metadata": {},
   "source": [
    "### Example 6 - 關於function的註解/ 指定參數類型\n",
    "- 函式註解: 讓自己與別人都明瞭這function的使用規範和目的。\n",
    "  - 參考 [google python style](https://sphinxcontrib-napoleon.readthedocs.io/en/latest/example_google.html)\n",
    "- 參數類型: \n",
    "  - 直接在參數旁\n",
    "  - 參考 [Annotations for parameters](https://www.python.org/dev/peps/pep-3107/#syntax)\n",
    "  "
   ]
  },
  {
   "cell_type": "code",
   "execution_count": 22,
   "metadata": {},
   "outputs": [],
   "source": [
    "def calc_avg(*nums: int):\n",
    "    '''Caculate the average of nums\n",
    "    \n",
    "    Args:\n",
    "        nums(int): 一個以上的整數\n",
    "        \n",
    "    Returns:\n",
    "        float: 為輸入整數之平均數\n",
    "                \n",
    "    '''\n",
    "    avg = sum(nums)/len(nums)\n",
    "\n",
    "    return avg"
   ]
  },
  {
   "cell_type": "code",
   "execution_count": 23,
   "metadata": {},
   "outputs": [
    {
     "data": {
      "text/plain": [
       "7.0"
      ]
     },
     "execution_count": 23,
     "metadata": {},
     "output_type": "execute_result"
    }
   ],
   "source": [
    "calc_avg(5,6,7,8,9)"
   ]
  },
  {
   "cell_type": "markdown",
   "metadata": {},
   "source": [
    "## 1-3 functions or methods? 有差嗎\n",
    "- Function\n",
    "  - 現在我們學到了, 怎麼自己寫一個function!\n",
    "  - 我們常常使用到的print(), 就是一個python內建的function。\n",
    "- Methods\n",
    "  - 接下來, 我們會學習到何謂\"物件(Object)\"。\n",
    "  - 而所謂的methods, 其實就是\"物件所具有的function!。\n",
    "  - 所以功能和寫法都很類似, 只是應用的場景和方式稍微不同~"
   ]
  },
  {
   "cell_type": "markdown",
   "metadata": {},
   "source": [
    "#### 舉例 list 的 內建methods\n",
    "- 參考[Python list methods](https://www.programiz.com/python-programming/methods/list)"
   ]
  },
  {
   "cell_type": "code",
   "execution_count": 24,
   "metadata": {},
   "outputs": [],
   "source": [
    "nums = [10, 2, 3, 4, 5]"
   ]
  },
  {
   "cell_type": "code",
   "execution_count": 25,
   "metadata": {},
   "outputs": [
    {
     "data": {
      "text/plain": [
       "[10, 2, 3, 4, 5, 6]"
      ]
     },
     "execution_count": 25,
     "metadata": {},
     "output_type": "execute_result"
    }
   ],
   "source": [
    "nums.append(6)\n",
    "nums"
   ]
  },
  {
   "cell_type": "code",
   "execution_count": 26,
   "metadata": {},
   "outputs": [
    {
     "data": {
      "text/plain": [
       "[10, 2, 3, 4, 5]"
      ]
     },
     "execution_count": 26,
     "metadata": {},
     "output_type": "execute_result"
    }
   ],
   "source": [
    "nums.pop()\n",
    "nums"
   ]
  },
  {
   "cell_type": "code",
   "execution_count": 27,
   "metadata": {},
   "outputs": [
    {
     "data": {
      "text/plain": [
       "1"
      ]
     },
     "execution_count": 27,
     "metadata": {},
     "output_type": "execute_result"
    }
   ],
   "source": [
    "nums.index(2)"
   ]
  },
  {
   "cell_type": "code",
   "execution_count": 28,
   "metadata": {},
   "outputs": [
    {
     "data": {
      "text/plain": [
       "[2, 3, 4, 5, 10]"
      ]
     },
     "execution_count": 28,
     "metadata": {},
     "output_type": "execute_result"
    }
   ],
   "source": [
    "nums.sort()\n",
    "nums"
   ]
  }
 ],
 "metadata": {
  "kernelspec": {
   "display_name": "Python 3",
   "language": "python",
   "name": "python3"
  },
  "language_info": {
   "codemirror_mode": {
    "name": "ipython",
    "version": 3
   },
   "file_extension": ".py",
   "mimetype": "text/x-python",
   "name": "python",
   "nbconvert_exporter": "python",
   "pygments_lexer": "ipython3",
   "version": "3.5.5"
  }
 },
 "nbformat": 4,
 "nbformat_minor": 2
}
